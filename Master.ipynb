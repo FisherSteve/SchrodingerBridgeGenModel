{
 "cells": [
  {
   "cell_type": "code",
   "execution_count": 1,
   "id": "521f625a-a45c-47f3-9422-396e0bf08f4d",
   "metadata": {},
   "outputs": [],
   "source": [
    "import random\n",
    "import numpy as np\n",
    "from typing import List"
   ]
  },
  {
   "cell_type": "code",
   "execution_count": 2,
   "id": "f1d72f9a-ec92-46e6-a42b-8d4f143ebf90",
   "metadata": {},
   "outputs": [],
   "source": [
    "import numpy as np\n",
    "from tqdm import tqdm\n",
    "\n",
    "class SchrodingerBridge:\n",
    "    def __init__(self, distSize, nbpaths, timeSeriesData=None, dimension=None, timeSeriesDataVector=None):\n",
    "        self.distSize = distSize\n",
    "        self.nbpaths = nbpaths\n",
    "        self.dimension = dimension\n",
    "\n",
    "        if timeSeriesData is not None:\n",
    "            self.timeSeriesData = np.array(timeSeriesData)\n",
    "            self.timeSeries = np.zeros((distSize + 1,))\n",
    "            self.timeSeries[0] = self.timeSeriesData[0, 0]\n",
    "        else:\n",
    "            self.timeSeriesData = None\n",
    "            self.timeSeries = None\n",
    "\n",
    "        if timeSeriesDataVector is not None:\n",
    "            self.timeSeriesDataVector = np.array(timeSeriesDataVector)\n",
    "            self.timeSeriesVector = np.zeros((distSize + 1, dimension))\n",
    "        else:\n",
    "            self.timeSeriesDataVector = None\n",
    "            self.timeSeriesVector = None\n",
    "\n",
    "        self.weights = np.zeros((nbpaths,))\n",
    "        self.weights_tilde = np.zeros((nbpaths,))\n",
    "    \n",
    "    def __del__(self):\n",
    "        pass\n",
    "\n",
    "    def simulate_kernel(self, nbStepsPerDeltati, H, deltati):\n",
    "        vtimestepEuler = np.arange(0, deltati + deltati/nbStepsPerDeltati, deltati/nbStepsPerDeltati)\n",
    "        Brownian = np.random.normal(0, 1, self.distSize * (len(vtimestepEuler) - 1))\n",
    "\n",
    "        timeSeries = np.zeros_like(self.timeSeries)\n",
    "        timeSeries[0] = self.timeSeries[0]\n",
    "        X_ = timeSeries[0]\n",
    "        index_ = 0\n",
    "\n",
    "        for interval in range(self.distSize):\n",
    "            for particle in range(self.timeSeriesData.shape[0]):\n",
    "                if interval == 0:\n",
    "                    self.weights[particle] = 1.0 / self.nbpaths\n",
    "                else:\n",
    "                    self.weights[particle] *= self.kernel(self.timeSeriesData[particle, interval] - X_, H)\n",
    "\n",
    "                self.weights_tilde[particle] = self.weights[particle] * np.exp((self.timeSeriesData[particle, interval + 1] - X_) ** 2 / (2.0 * deltati))\n",
    "\n",
    "            for nbtime in range(len(vtimestepEuler) - 1):\n",
    "                expecY = 0.0\n",
    "                expecX = 0.0\n",
    "                timeprev = vtimestepEuler[nbtime]\n",
    "                timestep = vtimestepEuler[nbtime + 1] - vtimestepEuler[nbtime]\n",
    "\n",
    "                for particle in range(self.timeSeriesData.shape[0]):\n",
    "                    if nbtime == 0:\n",
    "                        expecX += self.weights[particle]\n",
    "                        expecY += self.weights[particle] * (self.timeSeriesData[particle, interval + 1] - X_)\n",
    "                    else:\n",
    "                        termtoadd = -(self.timeSeriesData[particle, interval + 1] - X_) ** 2 / (2.0 * (deltati - timeprev))\n",
    "                        termtoadd = self.weights_tilde[particle] * np.exp(termtoadd)\n",
    "                        expecX += termtoadd\n",
    "                        expecY += termtoadd * (self.timeSeriesData[particle, interval + 1] - X_)\n",
    "\n",
    "                drift = (1.0 / (deltati - timeprev)) * (expecY / expecX) if expecX > 0.0 else 0.0\n",
    "                X_ += drift * timestep + Brownian[index_] * np.sqrt(timestep)\n",
    "                index_ += 1\n",
    "\n",
    "            timeSeries[interval + 1] = X_\n",
    "\n",
    "        return timeSeries\n",
    "\n",
    "    def simulate_kernel_vectorized(self, nbStepsPerDeltati, H, deltati):\n",
    "        vtimestepEuler = np.arange(0, deltati + deltati/nbStepsPerDeltati, deltati/nbStepsPerDeltati)\n",
    "        Brownian = np.random.normal(0, 1, self.distSize * self.dimension * (len(vtimestepEuler) - 1))\n",
    "\n",
    "        X_ = np.zeros(self.dimension)\n",
    "        index_ = 0\n",
    "\n",
    "        for interval in range(self.distSize):\n",
    "            for particle in range(self.timeSeriesDataVector.shape[0]):\n",
    "                if interval == 0:\n",
    "                    self.weights[particle] = 1.0 / self.nbpaths\n",
    "                else:\n",
    "                    for i in range(self.dimension):\n",
    "                        self.weights[particle] *= self.kernel(self.timeSeriesDataVector[particle, interval, i] - X_[i], H)\n",
    "\n",
    "                self.weights_tilde[particle] = self.weights[particle]\n",
    "                for i in range(self.dimension):\n",
    "                    self.weights_tilde[particle] *= np.exp((self.timeSeriesDataVector[particle, interval + 1, i] - X_[i]) ** 2 / (2.0 * deltati))\n",
    "\n",
    "            for nbtime in range(len(vtimestepEuler) - 1):\n",
    "                numerator = np.zeros(self.dimension)\n",
    "                expecX = 0.0\n",
    "                timeprev = vtimestepEuler[nbtime]\n",
    "                timestep = vtimestepEuler[nbtime + 1] - vtimestepEuler[nbtime]\n",
    "\n",
    "                for particle in range(self.timeSeriesDataVector.shape[0]):\n",
    "                    if nbtime == 0:\n",
    "                        expecX += self.weights[particle]\n",
    "                        for i in range(self.dimension):\n",
    "                            numerator[i] += self.weights[particle] * (self.timeSeriesDataVector[particle, interval + 1, i] - X_[i])\n",
    "                    else:\n",
    "                        termtoadd = 0.0\n",
    "                        for i in range(self.dimension):\n",
    "                            termtoadd += (self.timeSeriesDataVector[particle, interval + 1, i] - X_[i]) ** 2\n",
    "\n",
    "                        termtoadd = self.weights_tilde[particle] * np.exp(-termtoadd / (2.0 * (deltati - timeprev)))\n",
    "                        expecX += termtoadd\n",
    "\n",
    "                        for i in range(self.dimension):\n",
    "                            numerator[i] += termtoadd * (self.timeSeriesDataVector[particle, interval + 1, i] - X_[i])\n",
    "\n",
    "                timestepsqrt = np.sqrt(timestep)\n",
    "                for i in range(self.dimension):\n",
    "                    drift = (1.0 / (deltati - timeprev)) * (numerator[i] / expecX) if expecX > 0.0 else 0.0\n",
    "                    X_[i] += drift * timestep + Brownian[index_] * timestepsqrt\n",
    "                    index_ += 1\n",
    "\n",
    "            self.timeSeriesVector[interval + 1] = X_\n",
    "\n",
    "        return self.timeSeriesVector\n",
    "\n",
    "    @staticmethod\n",
    "    def kernel(x, H):\n",
    "        if abs(x) < H:\n",
    "            return (H * H - x * x) ** 2\n",
    "        else:\n",
    "            return 0.0\n",
    "\n",
    "    @staticmethod\n",
    "    def schedule(timeEuler, maturity, timestep):\n",
    "        time_ = 0.0\n",
    "        while time_ < maturity:\n",
    "            timeEuler.append(time_)\n",
    "            time_ += timestep\n",
    "        timeEuler.append(maturity)\n",
    "\n"
   ]
  },
  {
   "cell_type": "code",
   "execution_count": 3,
   "id": "34b0a2ea-7cdb-4ef0-a8f6-27504e8d7972",
   "metadata": {},
   "outputs": [
    {
     "name": "stdout",
     "output_type": "stream",
     "text": [
      "Simulated Kernel: [ 0.          1.97508049  2.97748985  4.04303002  5.07035129  6.14071762\n",
      "  7.01574798  7.90118764  9.03129885 10.02135868 10.97813537]\n",
      "Simulated Kernel Vectorized: [[ 0.          0.          0.        ]\n",
      " [ 1.91595823  2.97294896  3.928178  ]\n",
      " [ 3.23115822  3.98400825  5.07034953]\n",
      " [ 3.93299496  4.96777281  6.10127437]\n",
      " [ 5.12475265  6.01861711  7.13624977]\n",
      " [ 5.94222472  7.0678272   8.056525  ]\n",
      " [ 7.15563581  8.01373322  9.01387291]\n",
      " [ 8.06066602  9.06545628  9.8839422 ]\n",
      " [ 8.95828225 10.02776361 11.10721378]\n",
      " [10.01008593 10.96638138 11.99244481]\n",
      " [11.06900376 12.08487072 13.01264492]]\n"
     ]
    }
   ],
   "source": [
    "# Example data\n",
    "distSize = 10\n",
    "nbpaths = 5\n",
    "timeSeriesData = [[i + j for i in range(distSize + 1)] for j in range(nbpaths)]\n",
    "dimension = 3\n",
    "timeSeriesDataVector = [[[i + j + k for i in range(dimension)] for j in range(distSize + 1)] for k in range(nbpaths)]\n",
    "\n",
    "# Instantiate the class\n",
    "bridge = SchrodingerBridge(distSize, nbpaths, timeSeriesData=timeSeriesData)\n",
    "\n",
    "# Simulate kernel\n",
    "result = bridge.simulate_kernel(nbStepsPerDeltati=10, H=1.0, deltati=0.1)\n",
    "print(\"Simulated Kernel:\", result)\n",
    "\n",
    "# Instantiate the class with vectorized data\n",
    "bridge_vectorized = SchrodingerBridge(distSize, nbpaths, dimension=dimension, timeSeriesDataVector=timeSeriesDataVector)\n",
    "\n",
    "# Simulate kernel vectorized\n",
    "result_vectorized = bridge_vectorized.simulate_kernel_vectorized(nbStepsPerDeltati=10, H=1.0, deltati=0.1)\n",
    "print(\"Simulated Kernel Vectorized:\", result_vectorized)"
   ]
  },
  {
   "cell_type": "code",
   "execution_count": 4,
   "id": "ef78a715-6956-41a1-88bf-23c88c23f817",
   "metadata": {},
   "outputs": [],
   "source": [
    "import time\n",
    "import pandas as pd\n",
    "import numpy as np\n",
    "from tqdm.notebook import tqdm\n",
    "import seaborn as sns\n",
    "import matplotlib.pyplot as plt\n",
    "#from pandas_datareader import data as pdr\n",
    "from datetime import date\n",
    "from scipy.stats import ks_2samp, kstest, kurtosis\n",
    "#import yfinance as yf\n",
    "#yf.pdr_override()\n",
    "#from fbm import FBM\n",
    "#from tensorflow.keras.datasets import mnist\n",
    "from pathlib import Path\n",
    "import os\n",
    "import warnings\n",
    "warnings.filterwarnings(\"ignore\")"
   ]
  },
  {
   "cell_type": "code",
   "execution_count": 5,
   "id": "0e69f409-965a-4eb0-a10a-f75a9d56be8b",
   "metadata": {},
   "outputs": [],
   "source": [
    "def simulateSB(N, M, Data, deltati, H, nbStepsPerDeltati, numberOfSamples):\n",
    "    assert Data.shape == (M, N+1)\n",
    "    assert H > 0\n",
    "    \n",
    "    simulator = SchrodingerBridge(N, M, Data)\n",
    "\n",
    "    simu = []\n",
    "    for i in tqdm(range(numberOfSamples)):\n",
    "        simu.append(simulator.simulate_kernel(nbStepsPerDeltati, H, deltati))\n",
    "    simu = np.array(simu)\n",
    "    \n",
    "    return simu"
   ]
  },
  {
   "cell_type": "markdown",
   "id": "5f4e21df-d84b-4793-876c-196183bfc7c6",
   "metadata": {},
   "source": [
    "## Toy autoregressive model of time series\r\n",
    "1. SBTS diffusion"
   ]
  },
  {
   "cell_type": "code",
   "execution_count": 14,
   "id": "5c016e6c-693e-4cc5-a266-9bd62ae29e39",
   "metadata": {},
   "outputs": [],
   "source": [
    "# Number of time steps and number of samples\n",
    "M = 1000\n",
    "N = 3\n",
    "\n",
    "# Generate true time series\n",
    "X = np.zeros((M, N+1))\n",
    "X[:,0] = 0.\n",
    "X[:,1] = np.random.normal(loc=0.7, scale=0.1, size=M)\n",
    "X[:,2] = - X[:,1] + np.random.normal(scale=0.05, size=M)\n",
    "X[:,3] = - X[:,2] + np.sqrt(X[:,1]) + np.random.normal(scale=0.05, size=M)"
   ]
  },
  {
   "cell_type": "code",
   "execution_count": 15,
   "id": "3b8b8cf0-ffc2-48cd-b452-5c6fb27ba5a5",
   "metadata": {},
   "outputs": [
    {
     "data": {
      "text/plain": [
       "(1000, 3, (1000, 4))"
      ]
     },
     "execution_count": 15,
     "metadata": {},
     "output_type": "execute_result"
    }
   ],
   "source": [
    "M, N, X.shape\n"
   ]
  },
  {
   "cell_type": "code",
   "execution_count": 16,
   "id": "f87adef3-b199-4b7c-870f-9c26a777b125",
   "metadata": {},
   "outputs": [
    {
     "data": {
      "application/vnd.jupyter.widget-view+json": {
       "model_id": "6cb282ce3c10471f9fbe7a04b1df7aea",
       "version_major": 2,
       "version_minor": 0
      },
      "text/plain": [
       "  0%|          | 0/1000 [00:00<?, ?it/s]"
      ]
     },
     "metadata": {},
     "output_type": "display_data"
    },
    {
     "ename": "KeyboardInterrupt",
     "evalue": "",
     "output_type": "error",
     "traceback": [
      "\u001b[1;31m---------------------------------------------------------------------------\u001b[0m",
      "\u001b[1;31mKeyboardInterrupt\u001b[0m                         Traceback (most recent call last)",
      "Cell \u001b[1;32mIn[16], line 2\u001b[0m\n\u001b[0;32m      1\u001b[0m \u001b[38;5;66;03m# Simulate\u001b[39;00m\n\u001b[1;32m----> 2\u001b[0m simu \u001b[38;5;241m=\u001b[39m \u001b[43msimulateSB\u001b[49m\u001b[43m(\u001b[49m\n\u001b[0;32m      3\u001b[0m \u001b[43m    \u001b[49m\u001b[43mN\u001b[49m\u001b[38;5;241;43m=\u001b[39;49m\u001b[43mN\u001b[49m\u001b[43m,\u001b[49m\u001b[43m \u001b[49m\n\u001b[0;32m      4\u001b[0m \u001b[43m    \u001b[49m\u001b[43mM\u001b[49m\u001b[38;5;241;43m=\u001b[39;49m\u001b[43mM\u001b[49m\u001b[43m,\u001b[49m\n\u001b[0;32m      5\u001b[0m \u001b[43m    \u001b[49m\u001b[43mData\u001b[49m\u001b[38;5;241;43m=\u001b[39;49m\u001b[43mX\u001b[49m\u001b[43m,\u001b[49m\u001b[43m \u001b[49m\n\u001b[0;32m      6\u001b[0m \u001b[43m    \u001b[49m\u001b[43mdeltati\u001b[49m\u001b[38;5;241;43m=\u001b[39;49m\u001b[38;5;241;43m7.\u001b[39;49m\u001b[38;5;241;43m/\u001b[39;49m\u001b[38;5;241;43m252.\u001b[39;49m\u001b[43m,\u001b[49m\u001b[43m \u001b[49m\n\u001b[0;32m      7\u001b[0m \u001b[43m    \u001b[49m\u001b[43mH\u001b[49m\u001b[38;5;241;43m=\u001b[39;49m\u001b[38;5;241;43m0.05\u001b[39;49m\u001b[43m,\u001b[49m\u001b[43m \u001b[49m\n\u001b[0;32m      8\u001b[0m \u001b[43m    \u001b[49m\u001b[43mnbStepsPerDeltati\u001b[49m\u001b[38;5;241;43m=\u001b[39;49m\u001b[38;5;241;43m100\u001b[39;49m\u001b[43m,\u001b[49m\u001b[43m \u001b[49m\n\u001b[0;32m      9\u001b[0m \u001b[43m    \u001b[49m\u001b[43mnumberOfSamples\u001b[49m\u001b[38;5;241;43m=\u001b[39;49m\u001b[38;5;241;43m1000\u001b[39;49m\n\u001b[0;32m     10\u001b[0m \u001b[43m)\u001b[49m\n",
      "Cell \u001b[1;32mIn[13], line 9\u001b[0m, in \u001b[0;36msimulateSB\u001b[1;34m(N, M, Data, deltati, H, nbStepsPerDeltati, numberOfSamples)\u001b[0m\n\u001b[0;32m      7\u001b[0m simu \u001b[38;5;241m=\u001b[39m []\n\u001b[0;32m      8\u001b[0m \u001b[38;5;28;01mfor\u001b[39;00m i \u001b[38;5;129;01min\u001b[39;00m tqdm(\u001b[38;5;28mrange\u001b[39m(numberOfSamples)):\n\u001b[1;32m----> 9\u001b[0m     simu\u001b[38;5;241m.\u001b[39mappend(\u001b[43msimulator\u001b[49m\u001b[38;5;241;43m.\u001b[39;49m\u001b[43msimulate_kernel\u001b[49m\u001b[43m(\u001b[49m\u001b[43mnbStepsPerDeltati\u001b[49m\u001b[43m,\u001b[49m\u001b[43m \u001b[49m\u001b[43mH\u001b[49m\u001b[43m,\u001b[49m\u001b[43m \u001b[49m\u001b[43mdeltati\u001b[49m\u001b[43m)\u001b[49m)\n\u001b[0;32m     10\u001b[0m simu \u001b[38;5;241m=\u001b[39m np\u001b[38;5;241m.\u001b[39marray(simu)\n\u001b[0;32m     12\u001b[0m \u001b[38;5;28;01mreturn\u001b[39;00m simu\n",
      "Cell \u001b[1;32mIn[5], line 60\u001b[0m, in \u001b[0;36mSchrodingerBridge.simulate_kernel\u001b[1;34m(self, nbStepsPerDeltati, H, deltati)\u001b[0m\n\u001b[0;32m     58\u001b[0m     expecY \u001b[38;5;241m+\u001b[39m\u001b[38;5;241m=\u001b[39m \u001b[38;5;28mself\u001b[39m\u001b[38;5;241m.\u001b[39mweights[particle] \u001b[38;5;241m*\u001b[39m (\u001b[38;5;28mself\u001b[39m\u001b[38;5;241m.\u001b[39mtimeSeriesData[particle, interval \u001b[38;5;241m+\u001b[39m \u001b[38;5;241m1\u001b[39m] \u001b[38;5;241m-\u001b[39m X_)\n\u001b[0;32m     59\u001b[0m \u001b[38;5;28;01melse\u001b[39;00m:\n\u001b[1;32m---> 60\u001b[0m     termtoadd \u001b[38;5;241m=\u001b[39m \u001b[38;5;241;43m-\u001b[39;49m\u001b[43m(\u001b[49m\u001b[38;5;28;43mself\u001b[39;49m\u001b[38;5;241;43m.\u001b[39;49m\u001b[43mtimeSeriesData\u001b[49m\u001b[43m[\u001b[49m\u001b[43mparticle\u001b[49m\u001b[43m,\u001b[49m\u001b[43m \u001b[49m\u001b[43minterval\u001b[49m\u001b[43m \u001b[49m\u001b[38;5;241;43m+\u001b[39;49m\u001b[43m \u001b[49m\u001b[38;5;241;43m1\u001b[39;49m\u001b[43m]\u001b[49m\u001b[43m \u001b[49m\u001b[38;5;241;43m-\u001b[39;49m\u001b[43m \u001b[49m\u001b[43mX_\u001b[49m\u001b[43m)\u001b[49m\u001b[43m \u001b[49m\u001b[38;5;241;43m*\u001b[39;49m\u001b[38;5;241;43m*\u001b[39;49m\u001b[43m \u001b[49m\u001b[38;5;241;43m2\u001b[39;49m \u001b[38;5;241m/\u001b[39m (\u001b[38;5;241m2.0\u001b[39m \u001b[38;5;241m*\u001b[39m (deltati \u001b[38;5;241m-\u001b[39m timeprev))\n\u001b[0;32m     61\u001b[0m     termtoadd \u001b[38;5;241m=\u001b[39m \u001b[38;5;28mself\u001b[39m\u001b[38;5;241m.\u001b[39mweights_tilde[particle] \u001b[38;5;241m*\u001b[39m np\u001b[38;5;241m.\u001b[39mexp(termtoadd)\n\u001b[0;32m     62\u001b[0m     expecX \u001b[38;5;241m+\u001b[39m\u001b[38;5;241m=\u001b[39m termtoadd\n",
      "\u001b[1;31mKeyboardInterrupt\u001b[0m: "
     ]
    }
   ],
   "source": [
    "# Simulate\n",
    "simu = simulateSB(\n",
    "    N=N, \n",
    "    M=M,\n",
    "    Data=X, \n",
    "    deltati=7./252., \n",
    "    H=0.05, \n",
    "    nbStepsPerDeltati=100, \n",
    "    numberOfSamples=1000\n",
    ")"
   ]
  },
  {
   "cell_type": "code",
   "execution_count": null,
   "id": "af0f395c-f165-4bc9-84a4-8d8230a78dfd",
   "metadata": {},
   "outputs": [],
   "source": [
    "# Add simulated and true time series distributions to dataframe\n",
    "df_data_SBTS = pd.DataFrame()\n",
    "df_data_SBTS[\"X_1\"] = X[:500,1].tolist() + simu[:500,1].tolist()\n",
    "df_data_SBTS[\"X_2\"] = X[:500,2].tolist() + simu[:500,2].tolist()\n",
    "df_data_SBTS[\"X_3\"] = X[:500,3].tolist() + simu[:500,3].tolist()\n",
    "df_data_SBTS[\"type\"] = [\"Data\"]*500 + [\"SBTS\"]*500\n",
    "\n",
    "# Plot distribution\n",
    "sns.set_style(\"whitegrid\")\n",
    "sns.set_style(\"white\")\n",
    "\n",
    "# Set pair\n",
    "x = \"X_1\"\n",
    "y = \"X_3\"\n",
    "\n",
    "ax = sns.jointplot(\n",
    "    data=df_data_SBTS,\n",
    "    x=x, y=y, hue=\"type\", ec='Navy', lw=2, alpha=1, palette=\"dark\", kind=\"kde\", fill=True\n",
    ")\n",
    "ax.set_axis_labels(r\"$X_{t_1}$\", r\"$X_{t_3}$\", fontsize=13)\n",
    "ax.ax_joint.legend_.get_title().set_text(\"\")\n",
    "plt.setp(ax.ax_joint.legend_.get_texts(), fontsize=11)\n",
    "\n",
    "plt.show()"
   ]
  },
  {
   "cell_type": "code",
   "execution_count": null,
   "id": "1cb080b8-a15f-4bdb-a2fe-5703f75a0894",
   "metadata": {},
   "outputs": [],
   "source": [
    "simu"
   ]
  },
  {
   "cell_type": "code",
   "execution_count": null,
   "id": "4b190f5d-9e36-4aff-b150-205613e5e2bb",
   "metadata": {},
   "outputs": [],
   "source": [
    "df_stats_quantiles = pd.DataFrame(\n",
    "    columns=[\n",
    "    \"p-value\", \n",
    "    \"5%-quantile data\", \n",
    "    \"5%-quantile SB\", \n",
    "    \"95%-quantile data\", \n",
    "    \"95%-quantile SB\"\n",
    "    ],\n",
    "    index=[1,2,3]\n",
    ")"
   ]
  },
  {
   "cell_type": "code",
   "execution_count": null,
   "id": "36d3b522-9232-4ffb-9f27-55e4365b5dee",
   "metadata": {},
   "outputs": [],
   "source": [
    "for i in df_stats_quantiles.index:\n",
    "    \n",
    "    # Kolmogorov Smirnov test\n",
    "    df_stats_quantiles['p-value'].loc[i] = kstest(rvs=X[:,i], cdf=simu[:,i])[1]\n",
    "    \n",
    "    # Quantiles\n",
    "    df_stats_quantiles['5%-quantile data'].loc[i] = np.quantile(X[:,i], 0.05)\n",
    "    df_stats_quantiles['95%-quantile data'].loc[i] = np.quantile(X[:,i], 0.95)\n",
    "    df_stats_quantiles['5%-quantile SB'].loc[i] = np.quantile(simu[:,i], 0.05)\n",
    "    df_stats_quantiles['95%-quantile SB'].loc[i] = np.quantile(simu[:,i], 0.95)"
   ]
  },
  {
   "cell_type": "code",
   "execution_count": null,
   "id": "2b1f3725-d84b-4ec8-84bb-4fb69849e58a",
   "metadata": {},
   "outputs": [],
   "source": [
    "df_stats_quantiles"
   ]
  },
  {
   "cell_type": "code",
   "execution_count": null,
   "id": "ec83dd17-60f9-45a8-971c-bbcb5f1c66b1",
   "metadata": {},
   "outputs": [],
   "source": [
    "data_correlation_matrix = np.corrcoef(X[:,1:].T)\n",
    "SB_correlation_matrix = np.corrcoef(simu[:,1:].T)\n",
    "\n",
    "data_correlation_df = pd.DataFrame(data_correlation_matrix)\n",
    "SB_correlation_df = pd.DataFrame(SB_correlation_matrix)\n",
    "difference_df = pd.DataFrame((data_correlation_matrix - SB_correlation_matrix).round(3))\n",
    "\n",
    "combined_df = pd.concat([data_correlation_df, SB_correlation_df, difference_df], axis=1)\n",
    "print(combined_df.to_string())"
   ]
  },
  {
   "cell_type": "markdown",
   "id": "03e113d2-60bf-4b23-bd47-36692ab7471b",
   "metadata": {},
   "source": [
    "## Garch Model\r\n",
    "1. SBTS diffusion"
   ]
  },
  {
   "cell_type": "code",
   "execution_count": null,
   "id": "fb1d24e0-40e5-4e4b-a7c4-1fb6a3e7992a",
   "metadata": {},
   "outputs": [],
   "source": [
    "# Number of time steps and number of samples\n",
    "M = 1000\n",
    "N = 60\n",
    "\n",
    "# Generate Garch time series\n",
    "alpha_0 = 5.\n",
    "alpha_1 =  0.4\n",
    "alpha_2 = 0.1\n",
    "\n",
    "def Garch_sample(alpha_0, alpha_1, alpha_2):\n",
    "    \n",
    "    time_series = list()\n",
    "    x_next = 0.0\n",
    "    x_prev = 0.0\n",
    "    \n",
    "    for t in range(N+50):\n",
    "        \n",
    "        # Diffuse over (for example) 50 time steps to achieve stationarity\n",
    "        if t>=50:\n",
    "            time_series.append(x_next)\n",
    "        \n",
    "        # Compute volatility\n",
    "        sigma = np.sqrt(alpha_0 + alpha_1 * x_next**2 + alpha_2 * x_prev**2)\n",
    "        x_prev = x_next\n",
    "        x_next = sigma * np.random.normal(scale=0.1)\n",
    "        \n",
    "    return [0.0] + time_series\n",
    "\n",
    "X = np.array([Garch_sample(alpha_0, alpha_1, alpha_2) for i in range(M)])"
   ]
  },
  {
   "cell_type": "code",
   "execution_count": null,
   "id": "0b9c93fd-2ded-4c56-bb53-970c80f873b9",
   "metadata": {},
   "outputs": [],
   "source": [
    "M, N, X.shape"
   ]
  },
  {
   "cell_type": "code",
   "execution_count": null,
   "id": "940e7158-3832-4efc-b596-51280f3ad9b0",
   "metadata": {},
   "outputs": [],
   "source": [
    "simu = simulateSB(\n",
    "    N = N, \n",
    "    M = M,\n",
    "    Data = X, \n",
    "    deltati = 7./252., \n",
    "    H = 0.2, \n",
    "    nbStepsPerDeltati = 100, \n",
    "    numberOfSamples = 1000\n",
    ")"
   ]
  },
  {
   "cell_type": "code",
   "execution_count": null,
   "id": "8a86e41f-0259-4248-83a2-07bf33547989",
   "metadata": {},
   "outputs": [],
   "source": [
    "plt.rcParams.update({'font.size': 13})\n",
    "fig, ax = plt.subplots(1, 2, figsize=(12,4))\n",
    "\n",
    "# Select random paths\n",
    "for i in range(4):\n",
    "    j = np.random.randint(len(simu))\n",
    "    ax[0].plot(X[j], linewidth=1.5)\n",
    "    ax[1].plot(simu[j], linewidth=1.5)\n",
    "    \n",
    "ax[0].axhline(0, linewidth=1, linestyle=\"--\", color='k')\n",
    "ax[0].set_xlabel('time')\n",
    "ax[0].set_ylabel('Garch')\n",
    "ax[0].set_ylim(-0.9, 0.9)\n",
    "ax[0].tick_params(axis='both', which='major', labelsize=13)\n",
    "ax[0].set_yticks([-0.8, -0.4, 0, 0.4, 0.8])\n",
    "\n",
    "ax[1].axhline(0, linewidth=1, linestyle=\"--\", color='k')\n",
    "ax[1].set_xlabel('time')\n",
    "ax[1].set_ylabel('SBTS')\n",
    "ax[1].set_ylim(-0.9, 0.9)\n",
    "ax[1].tick_params(axis='both', which='major', labelsize=13)\n",
    "ax[1].set_yticks([-0.8, -0.4, 0, 0.4, 0.8])"
   ]
  },
  {
   "cell_type": "code",
   "execution_count": null,
   "id": "3cc015ca-f4cf-4acf-a3ee-f95c993b87e5",
   "metadata": {},
   "outputs": [],
   "source": [
    "!pip install tensorflow\n"
   ]
  },
  {
   "cell_type": "code",
   "execution_count": 6,
   "id": "7ed34430-8b94-4b54-ae49-b175f96caf6d",
   "metadata": {},
   "outputs": [
    {
     "name": "stdout",
     "output_type": "stream",
     "text": [
      "Downloading data from https://storage.googleapis.com/tensorflow/tf-keras-datasets/mnist.npz\n",
      "11490434/11490434 [==============================] - 2s 0us/step\n"
     ]
    }
   ],
   "source": [
    "from tensorflow.keras.datasets import mnist\n",
    "\n",
    "# load dataset\n",
    "(trainX, _), (_, _) = mnist.load_data()"
   ]
  },
  {
   "cell_type": "code",
   "execution_count": 7,
   "id": "dfd00b78-8b87-4162-823b-d0341490e027",
   "metadata": {},
   "outputs": [],
   "source": [
    "\n",
    "M = 10000\n",
    "N = 1\n",
    "NbPixels = trainX.shape[1]\n",
    "deltati = 1./252.\n",
    "\n",
    "TimeSeries = np.zeros((M, N+1, NbPixels, NbPixels))\n",
    "TimeSeries[:,1,:,:] = trainX[:M,:,:]/255/10 - 0.05 # Normalization to avoid numerical issues"
   ]
  },
  {
   "cell_type": "code",
   "execution_count": 8,
   "id": "72192825-33fa-4db1-aa30-5086d5089ad8",
   "metadata": {},
   "outputs": [
    {
     "data": {
      "text/plain": [
       "(-0.05, 0.05)"
      ]
     },
     "execution_count": 8,
     "metadata": {},
     "output_type": "execute_result"
    }
   ],
   "source": [
    "TimeSeries.min(), TimeSeries.max()"
   ]
  },
  {
   "cell_type": "code",
   "execution_count": 19,
   "id": "e56b9162-0346-4343-ac16-5886672ff2d8",
   "metadata": {},
   "outputs": [
    {
     "data": {
      "text/plain": [
       "(10000, 2, 784)"
      ]
     },
     "execution_count": 19,
     "metadata": {},
     "output_type": "execute_result"
    }
   ],
   "source": [
    "TimeSeriesFlat = TimeSeries.reshape(M, N+1, -1)\n",
    "\n",
    "TimeSeriesFlat.shape"
   ]
  },
  {
   "cell_type": "code",
   "execution_count": 28,
   "id": "63c8b4a2-9eb2-49a6-9ef6-1af05b35ce87",
   "metadata": {},
   "outputs": [
    {
     "data": {
      "image/png": "[encoded data removed]",
      "text/plain": [
       "<Figure size 800x800 with 40 Axes>"
      ]
     },
     "metadata": {},
     "output_type": "display_data"
    }
   ],
   "source": [
    "a= 10\n",
    "b =4\n",
    "fig, ax = plt.subplots(a, b, figsize=(8,8))\n",
    "\n",
    "for i in range(a):\n",
    "    for j in range(b):\n",
    "        ax[i,j].imshow((TimeSeries[i*4 + j,1,:,:]+0.05)*10*255, cmap=plt.get_cmap('gray'), vmin=0, vmax=255)\n",
    "        ax[i,j].set_xticks([])\n",
    "        ax[i,j].set_yticks([])"
   ]
  },
  {
   "cell_type": "code",
   "execution_count": 52,
   "id": "1fb7c0f7-b7d6-4431-85ec-dbbe65009a79",
   "metadata": {},
   "outputs": [],
   "source": [
    "import numpy as np\n",
    "from tensorflow.keras.datasets import mnist\n",
    "from tqdm import tqdm\n",
    "\n",
    "class RandomGenerator:\n",
    "    def __init__(self):\n",
    "        self.gen = np.random.default_rng()\n",
    "\n",
    "    def gaussian_mt(self, gaussian):\n",
    "        gaussian[:] = self.gen.normal(0, 1, size=len(gaussian))\n",
    "\n",
    "    def uniform_mt(self, uniform):\n",
    "        uniform[:] = self.gen.uniform(0, 1, size=len(uniform))\n",
    "\n",
    "class SchrodingerBridge:\n",
    "    def __init__(self, distSize, nbpaths, dimension, timeSeriesDataVector):\n",
    "        self.distSize = distSize\n",
    "        self.nbpaths = nbpaths\n",
    "        self.dimension = dimension\n",
    "        self.timeSeriesDataVector = np.array(timeSeriesDataVector)\n",
    "\n",
    "        self.timeSeriesVector = np.zeros((distSize + 1, dimension))\n",
    "        self.timeSeriesVector[0, :] = self.timeSeriesDataVector[0, 0, :]\n",
    "\n",
    "        self.weights = np.zeros(nbpaths)\n",
    "        self.weights_tilde = np.zeros(nbpaths)\n",
    "\n",
    "    def kernel(self, x, H):\n",
    "        if abs(x) < H:\n",
    "            return (H * H - x * x) * (H * H - x * x)\n",
    "        else:\n",
    "            return 0.0\n",
    "\n",
    "    def schedule(self, timeEuler, maturity, timestep):\n",
    "        time_ = 0.0\n",
    "        while time_ < maturity:\n",
    "            timeEuler.append(time_)\n",
    "            time_ += timestep\n",
    "        timeEuler.append(maturity)\n",
    "\n",
    "    def simulate_kernel_vectorized(self, nbStepsPerDeltati, H, deltati):\n",
    "        vtimestepEuler = np.arange(0, deltati + deltati / nbStepsPerDeltati, deltati / nbStepsPerDeltati)\n",
    "        Brownian = np.random.normal(0, 1, self.distSize * self.dimension * (len(vtimestepEuler) - 1))\n",
    "\n",
    "        X_ = np.zeros(self.dimension)\n",
    "        index_ = 0\n",
    "\n",
    "        for interval in tqdm(range(self.distSize), desc=\"Intervals\"):\n",
    "            for particle in range(self.timeSeriesDataVector.shape[0]):\n",
    "                if interval == 0:\n",
    "                    self.weights[particle] = 1.0 / self.nbpaths\n",
    "                else:\n",
    "                    for i in range(self.dimension):\n",
    "                        self.weights[particle] *= self.kernel(self.timeSeriesDataVector[particle, interval, i] - X_[i], H)\n",
    "\n",
    "                self.weights_tilde[particle] = self.weights[particle]\n",
    "                for i in range(self.dimension):\n",
    "                    self.weights_tilde[particle] *= np.exp((self.timeSeriesDataVector[particle, interval + 1, i] - X_[i]) ** 2 / (2.0 * deltati))\n",
    "\n",
    "            for nbtime in range(len(vtimestepEuler) - 1):\n",
    "                numerator = np.zeros(self.dimension)\n",
    "                expecX = 0.0\n",
    "                timeprev = vtimestepEuler[nbtime]\n",
    "                timestep = vtimestepEuler[nbtime + 1] - vtimestepEuler[nbtime]\n",
    "\n",
    "                for particle in range(self.timeSeriesDataVector.shape[0]):\n",
    "                    if nbtime == 0:\n",
    "                        expecX += self.weights[particle]\n",
    "                        for i in range(self.dimension):\n",
    "                            numerator[i] += self.weights[particle] * (self.timeSeriesDataVector[particle, interval + 1, i] - X_[i])\n",
    "                    else:\n",
    "                        termtoadd = 0.0\n",
    "                        for i in range(self.dimension):\n",
    "                            termtoadd += (self.timeSeriesDataVector[particle, interval + 1, i] - X_[i]) ** 2\n",
    "\n",
    "                        termtoadd = self.weights_tilde[particle] * np.exp(-termtoadd / (2.0 * (deltati - timeprev)))\n",
    "                        expecX += termtoadd\n",
    "\n",
    "                        for i in range(self.dimension):\n",
    "                            numerator[i] += termtoadd * (self.timeSeriesDataVector[particle, interval + 1, i] - X_[i])\n",
    "\n",
    "                timestepsqrt = np.sqrt(timestep)\n",
    "                for i in range(self.dimension):\n",
    "                    drift = (1.0 / (deltati - timeprev)) * (numerator[i] / expecX) if expecX > 0.0 else 0.0\n",
    "                    X_[i] += drift * timestep + Brownian[index_] * timestepsqrt\n",
    "                    index_ += 1\n",
    "\n",
    "            self.timeSeriesVector[interval + 1] = X_\n",
    "\n",
    "        return self.timeSeriesVector"
   ]
  },
  {
   "cell_type": "code",
   "execution_count": null,
   "id": "05f009be-8e66-407f-ae5b-7eacab0fed55",
   "metadata": {},
   "outputs": [
    {
     "name": "stderr",
     "output_type": "stream",
     "text": [
      "  0%|                                                                                           | 0/16 [00:00<?, ?it/s]\n",
      "Intervals:   0%|                                                                                 | 0/1 [00:00<?, ?it/s]\u001b[A\n",
      "Intervals: 100%|████████████████████████████████████████████████████████████████████████| 1/1 [05:16<00:00, 316.33s/it]\u001b[A\n",
      "  6%|█████                                                                           | 1/16 [05:16<1:19:05, 316.34s/it]\n",
      "Intervals:   0%|                                                                                 | 0/1 [00:00<?, ?it/s]\u001b[A"
     ]
    }
   ],
   "source": [
    "\n",
    "TimeSeriesFlat = TimeSeries.reshape(M, N+1, -1)\n",
    "numberOfSamples = 16 #perfect square \n",
    "\n",
    "simulator = SchrodingerBridge(N, M, NbPixels**2, TimeSeriesFlat)\n",
    "simuTimeSeriesFlat = np.empty((numberOfSamples, N+1, NbPixels**2))\n",
    "for i in tqdm(range(numberOfSamples)):\n",
    "    images = np.array(simulator.simulate_kernel_vectorized(50, 1.1, 1./252.))\n",
    "    simuTimeSeriesFlat[i] = images\n",
    "\n",
    "simuTimeSeries = simuTimeSeriesFlat.reshape(numberOfSamples, N+1, NbPixels, NbPixels)"
   ]
  },
  {
   "cell_type": "code",
   "execution_count": 51,
   "id": "0d7abbd3-91e7-4b0d-b4b2-506042ab83b8",
   "metadata": {},
   "outputs": [
    {
     "data": {
      "image/png": "[encoded data removed]",
      "text/plain": [
       "<Figure size 400x400 with 1 Axes>"
      ]
     },
     "metadata": {},
     "output_type": "display_data"
    }
   ],
   "source": [
    "# Visualize the generated image\n",
    "fig, ax = plt.subplots(1, 1, figsize=(4, 4))\n",
    "random_index = np.random.randint(0, numberOfSamples)\n",
    "ax.imshow((simuTimeSeries[random_index, 1, :, :] + 0.05) * 10 * 255, cmap=plt.get_cmap('gray'), vmin=0, vmax=255)\n",
    "ax.set_xticks([])\n",
    "ax.set_yticks([])\n",
    "plt.title('Generated Image')\n",
    "plt.show()"
   ]
  },
  {
   "cell_type": "code",
   "execution_count": 38,
   "id": "4912757a-6e54-462a-bc13-8a0b06f8ca02",
   "metadata": {},
   "outputs": [
    {
     "data": {
      "image/png": "[encoded data removed]",
      "text/plain": [
       "<Figure size 400x400 with 3 Axes>"
      ]
     },
     "metadata": {},
     "output_type": "display_data"
    }
   ],
   "source": [
    "# Plotting the results\n",
    "if numberOfSamples == 1:\n",
    "    fig, ax = plt.subplots(1, 1, figsize=(4, 4))\n",
    "    ax.imshow((simuTimeSeries[0, 1, :, :] + 0.05) * 10 * 255, cmap='gray', vmin=0, vmax=255)\n",
    "    ax.set_xticks([])\n",
    "    ax.set_yticks([])\n",
    "    plt.title('Generated Image')\n",
    "    plt.show()\n",
    "else:\n",
    "    rows = int(np.ceil(np.sqrt(numberOfSamples)))\n",
    "    cols = int(np.ceil(numberOfSamples / rows))\n",
    "    fig, ax = plt.subplots(rows, cols, figsize=(cols * 2, rows * 2))\n",
    "    ax = ax.flatten() if numberOfSamples > 1 else [ax]\n",
    "    for i in range(numberOfSamples):\n",
    "        ax[i].imshow((simuTimeSeries[i, 1, :, :] + 0.05) * 10 * 255, cmap='gray', vmin=0, vmax=255)\n",
    "        ax[i].set_xticks([])\n",
    "        ax[i].set_yticks([])\n",
    "    for i in range(numberOfSamples, len(ax)):\n",
    "        fig.delaxes(ax[i])\n",
    "    plt.tight_layout()\n",
    "    plt.show()"
   ]
  },
  {
   "cell_type": "code",
   "execution_count": null,
   "id": "9f40519e-b1e9-4b34-8e27-a212aa9323ed",
   "metadata": {},
   "outputs": [],
   "source": []
  },
  {
   "cell_type": "code",
   "execution_count": null,
   "id": "fd9046c8-608f-49ff-b36f-603458baafcd",
   "metadata": {},
   "outputs": [],
   "source": []
  },
  {
   "cell_type": "code",
   "execution_count": null,
   "id": "65a9c64a-917b-4890-a5fc-54ac2b72d363",
   "metadata": {},
   "outputs": [],
   "source": []
  }
 ],
 "metadata": {
  "kernelspec": {
   "display_name": "Python 3 (ipykernel)",
   "language": "python",
   "name": "python3"
  },
  "language_info": {
   "codemirror_mode": {
    "name": "ipython",
    "version": 3
   },
   "file_extension": ".py",
   "mimetype": "text/x-python",
   "name": "python",
   "nbconvert_exporter": "python",
   "pygments_lexer": "ipython3",
   "version": "3.8.16"
  }
 },
 "nbformat": 4,
 "nbformat_minor": 5
}
